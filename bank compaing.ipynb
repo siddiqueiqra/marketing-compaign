{
 "cells": [
  {
   "cell_type": "markdown",
   "id": "62d7d0bb",
   "metadata": {},
   "source": [
    "\n",
    "#  Marketing campaigns of a Portuguese banking institution"
   ]
  },
  {
   "cell_type": "markdown",
   "id": "bcfd5824",
   "metadata": {},
   "source": [
    "> #### The objective of this assignment is to build a predictive model that can predict customer churn for a given company. "
   ]
  },
  {
   "cell_type": "markdown",
   "id": "6b68d848",
   "metadata": {},
   "source": [
    "**Loading Libraries and datasets**"
   ]
  },
  {
   "cell_type": "code",
   "execution_count": 404,
   "id": "99102862",
   "metadata": {},
   "outputs": [],
   "source": [
    "import pandas as pd\n",
    "import numpy as np\n",
    "import matplotlib.pyplot as plt\n",
    "import seaborn as sns\n",
    "from sklearn.preprocessing import LabelEncoder"
   ]
  },
  {
   "cell_type": "code",
   "execution_count": 405,
   "id": "62831fac",
   "metadata": {},
   "outputs": [
    {
     "data": {
      "text/html": [
       "<div>\n",
       "<style scoped>\n",
       "    .dataframe tbody tr th:only-of-type {\n",
       "        vertical-align: middle;\n",
       "    }\n",
       "\n",
       "    .dataframe tbody tr th {\n",
       "        vertical-align: top;\n",
       "    }\n",
       "\n",
       "    .dataframe thead th {\n",
       "        text-align: right;\n",
       "    }\n",
       "</style>\n",
       "<table border=\"1\" class=\"dataframe\">\n",
       "  <thead>\n",
       "    <tr style=\"text-align: right;\">\n",
       "      <th></th>\n",
       "      <th>age</th>\n",
       "      <th>job</th>\n",
       "      <th>marital</th>\n",
       "      <th>education</th>\n",
       "      <th>default</th>\n",
       "      <th>balance</th>\n",
       "      <th>housing</th>\n",
       "      <th>loan</th>\n",
       "      <th>contact</th>\n",
       "      <th>day</th>\n",
       "      <th>month</th>\n",
       "      <th>duration</th>\n",
       "      <th>campaign</th>\n",
       "      <th>pdays</th>\n",
       "      <th>previous</th>\n",
       "      <th>poutcome</th>\n",
       "      <th>y</th>\n",
       "    </tr>\n",
       "  </thead>\n",
       "  <tbody>\n",
       "    <tr>\n",
       "      <th>0</th>\n",
       "      <td>30</td>\n",
       "      <td>unemployed</td>\n",
       "      <td>married</td>\n",
       "      <td>primary</td>\n",
       "      <td>no</td>\n",
       "      <td>1787</td>\n",
       "      <td>no</td>\n",
       "      <td>no</td>\n",
       "      <td>cellular</td>\n",
       "      <td>19</td>\n",
       "      <td>oct</td>\n",
       "      <td>79</td>\n",
       "      <td>1</td>\n",
       "      <td>-1</td>\n",
       "      <td>0</td>\n",
       "      <td>unknown</td>\n",
       "      <td>no</td>\n",
       "    </tr>\n",
       "    <tr>\n",
       "      <th>1</th>\n",
       "      <td>33</td>\n",
       "      <td>services</td>\n",
       "      <td>married</td>\n",
       "      <td>secondary</td>\n",
       "      <td>no</td>\n",
       "      <td>4789</td>\n",
       "      <td>yes</td>\n",
       "      <td>yes</td>\n",
       "      <td>cellular</td>\n",
       "      <td>11</td>\n",
       "      <td>may</td>\n",
       "      <td>220</td>\n",
       "      <td>1</td>\n",
       "      <td>339</td>\n",
       "      <td>4</td>\n",
       "      <td>failure</td>\n",
       "      <td>no</td>\n",
       "    </tr>\n",
       "    <tr>\n",
       "      <th>2</th>\n",
       "      <td>35</td>\n",
       "      <td>management</td>\n",
       "      <td>single</td>\n",
       "      <td>tertiary</td>\n",
       "      <td>no</td>\n",
       "      <td>1350</td>\n",
       "      <td>yes</td>\n",
       "      <td>no</td>\n",
       "      <td>cellular</td>\n",
       "      <td>16</td>\n",
       "      <td>apr</td>\n",
       "      <td>185</td>\n",
       "      <td>1</td>\n",
       "      <td>330</td>\n",
       "      <td>1</td>\n",
       "      <td>failure</td>\n",
       "      <td>no</td>\n",
       "    </tr>\n",
       "  </tbody>\n",
       "</table>\n",
       "</div>"
      ],
      "text/plain": [
       "   age         job  marital  education default  balance housing loan  \\\n",
       "0   30  unemployed  married    primary      no     1787      no   no   \n",
       "1   33    services  married  secondary      no     4789     yes  yes   \n",
       "2   35  management   single   tertiary      no     1350     yes   no   \n",
       "\n",
       "    contact  day month  duration  campaign  pdays  previous poutcome   y  \n",
       "0  cellular   19   oct        79         1     -1         0  unknown  no  \n",
       "1  cellular   11   may       220         1    339         4  failure  no  \n",
       "2  cellular   16   apr       185         1    330         1  failure  no  "
      ]
     },
     "execution_count": 405,
     "metadata": {},
     "output_type": "execute_result"
    }
   ],
   "source": [
    "df = pd.read_csv(r\"C:\\Users\\Lenovo\\Downloads\\bank.csv\")\n",
    "df.head(3)"
   ]
  },
  {
   "cell_type": "code",
   "execution_count": 406,
   "id": "6c387e46",
   "metadata": {},
   "outputs": [
    {
     "data": {
      "text/plain": [
       "array(['no', 'yes'], dtype=object)"
      ]
     },
     "execution_count": 406,
     "metadata": {},
     "output_type": "execute_result"
    }
   ],
   "source": [
    "df.default.unique()"
   ]
  },
  {
   "cell_type": "markdown",
   "id": "f2387bf1",
   "metadata": {},
   "source": [
    "# DATA PREPROCESSING\n",
    "- size of the datasets\n",
    "- distribution of the datasets\n",
    "- identifying missing values or outliers"
   ]
  },
  {
   "cell_type": "code",
   "execution_count": 407,
   "id": "82b8d140",
   "metadata": {},
   "outputs": [
    {
     "data": {
      "text/plain": [
       "(4521, 17)"
      ]
     },
     "execution_count": 407,
     "metadata": {},
     "output_type": "execute_result"
    }
   ],
   "source": [
    "df.shape"
   ]
  },
  {
   "cell_type": "code",
   "execution_count": 408,
   "id": "2bd86b25",
   "metadata": {},
   "outputs": [
    {
     "data": {
      "text/html": [
       "<div>\n",
       "<style scoped>\n",
       "    .dataframe tbody tr th:only-of-type {\n",
       "        vertical-align: middle;\n",
       "    }\n",
       "\n",
       "    .dataframe tbody tr th {\n",
       "        vertical-align: top;\n",
       "    }\n",
       "\n",
       "    .dataframe thead th {\n",
       "        text-align: right;\n",
       "    }\n",
       "</style>\n",
       "<table border=\"1\" class=\"dataframe\">\n",
       "  <thead>\n",
       "    <tr style=\"text-align: right;\">\n",
       "      <th></th>\n",
       "      <th>age</th>\n",
       "      <th>balance</th>\n",
       "      <th>day</th>\n",
       "      <th>duration</th>\n",
       "      <th>campaign</th>\n",
       "      <th>pdays</th>\n",
       "      <th>previous</th>\n",
       "    </tr>\n",
       "  </thead>\n",
       "  <tbody>\n",
       "    <tr>\n",
       "      <th>count</th>\n",
       "      <td>4521.000000</td>\n",
       "      <td>4521.000000</td>\n",
       "      <td>4521.000000</td>\n",
       "      <td>4521.000000</td>\n",
       "      <td>4521.000000</td>\n",
       "      <td>4521.000000</td>\n",
       "      <td>4521.000000</td>\n",
       "    </tr>\n",
       "    <tr>\n",
       "      <th>mean</th>\n",
       "      <td>41.170095</td>\n",
       "      <td>1422.657819</td>\n",
       "      <td>15.915284</td>\n",
       "      <td>263.961292</td>\n",
       "      <td>2.793630</td>\n",
       "      <td>39.766645</td>\n",
       "      <td>0.542579</td>\n",
       "    </tr>\n",
       "    <tr>\n",
       "      <th>std</th>\n",
       "      <td>10.576211</td>\n",
       "      <td>3009.638142</td>\n",
       "      <td>8.247667</td>\n",
       "      <td>259.856633</td>\n",
       "      <td>3.109807</td>\n",
       "      <td>100.121124</td>\n",
       "      <td>1.693562</td>\n",
       "    </tr>\n",
       "    <tr>\n",
       "      <th>min</th>\n",
       "      <td>19.000000</td>\n",
       "      <td>-3313.000000</td>\n",
       "      <td>1.000000</td>\n",
       "      <td>4.000000</td>\n",
       "      <td>1.000000</td>\n",
       "      <td>-1.000000</td>\n",
       "      <td>0.000000</td>\n",
       "    </tr>\n",
       "    <tr>\n",
       "      <th>25%</th>\n",
       "      <td>33.000000</td>\n",
       "      <td>69.000000</td>\n",
       "      <td>9.000000</td>\n",
       "      <td>104.000000</td>\n",
       "      <td>1.000000</td>\n",
       "      <td>-1.000000</td>\n",
       "      <td>0.000000</td>\n",
       "    </tr>\n",
       "    <tr>\n",
       "      <th>50%</th>\n",
       "      <td>39.000000</td>\n",
       "      <td>444.000000</td>\n",
       "      <td>16.000000</td>\n",
       "      <td>185.000000</td>\n",
       "      <td>2.000000</td>\n",
       "      <td>-1.000000</td>\n",
       "      <td>0.000000</td>\n",
       "    </tr>\n",
       "    <tr>\n",
       "      <th>75%</th>\n",
       "      <td>49.000000</td>\n",
       "      <td>1480.000000</td>\n",
       "      <td>21.000000</td>\n",
       "      <td>329.000000</td>\n",
       "      <td>3.000000</td>\n",
       "      <td>-1.000000</td>\n",
       "      <td>0.000000</td>\n",
       "    </tr>\n",
       "    <tr>\n",
       "      <th>max</th>\n",
       "      <td>87.000000</td>\n",
       "      <td>71188.000000</td>\n",
       "      <td>31.000000</td>\n",
       "      <td>3025.000000</td>\n",
       "      <td>50.000000</td>\n",
       "      <td>871.000000</td>\n",
       "      <td>25.000000</td>\n",
       "    </tr>\n",
       "  </tbody>\n",
       "</table>\n",
       "</div>"
      ],
      "text/plain": [
       "               age       balance          day     duration     campaign  \\\n",
       "count  4521.000000   4521.000000  4521.000000  4521.000000  4521.000000   \n",
       "mean     41.170095   1422.657819    15.915284   263.961292     2.793630   \n",
       "std      10.576211   3009.638142     8.247667   259.856633     3.109807   \n",
       "min      19.000000  -3313.000000     1.000000     4.000000     1.000000   \n",
       "25%      33.000000     69.000000     9.000000   104.000000     1.000000   \n",
       "50%      39.000000    444.000000    16.000000   185.000000     2.000000   \n",
       "75%      49.000000   1480.000000    21.000000   329.000000     3.000000   \n",
       "max      87.000000  71188.000000    31.000000  3025.000000    50.000000   \n",
       "\n",
       "             pdays     previous  \n",
       "count  4521.000000  4521.000000  \n",
       "mean     39.766645     0.542579  \n",
       "std     100.121124     1.693562  \n",
       "min      -1.000000     0.000000  \n",
       "25%      -1.000000     0.000000  \n",
       "50%      -1.000000     0.000000  \n",
       "75%      -1.000000     0.000000  \n",
       "max     871.000000    25.000000  "
      ]
     },
     "execution_count": 408,
     "metadata": {},
     "output_type": "execute_result"
    }
   ],
   "source": [
    "df.describe()"
   ]
  },
  {
   "cell_type": "code",
   "execution_count": 409,
   "id": "097680af",
   "metadata": {},
   "outputs": [
    {
     "data": {
      "text/plain": [
       "age          0\n",
       "job          0\n",
       "marital      0\n",
       "education    0\n",
       "default      0\n",
       "balance      0\n",
       "housing      0\n",
       "loan         0\n",
       "contact      0\n",
       "day          0\n",
       "month        0\n",
       "duration     0\n",
       "campaign     0\n",
       "pdays        0\n",
       "previous     0\n",
       "poutcome     0\n",
       "y            0\n",
       "dtype: int64"
      ]
     },
     "execution_count": 409,
     "metadata": {},
     "output_type": "execute_result"
    }
   ],
   "source": [
    "df.isnull().sum()"
   ]
  },
  {
   "cell_type": "code",
   "execution_count": 410,
   "id": "732b5bf2",
   "metadata": {},
   "outputs": [
    {
     "data": {
      "text/plain": [
       "0"
      ]
     },
     "execution_count": 410,
     "metadata": {},
     "output_type": "execute_result"
    }
   ],
   "source": [
    "df.duplicated().sum()"
   ]
  },
  {
   "cell_type": "code",
   "execution_count": 411,
   "id": "27e71686",
   "metadata": {},
   "outputs": [
    {
     "data": {
      "text/plain": [
       "Index(['age', 'job', 'marital', 'education', 'default', 'balance', 'housing',\n",
       "       'loan', 'contact', 'day', 'month', 'duration', 'campaign', 'pdays',\n",
       "       'previous', 'poutcome', 'y'],\n",
       "      dtype='object')"
      ]
     },
     "execution_count": 411,
     "metadata": {},
     "output_type": "execute_result"
    }
   ],
   "source": [
    "df.columns"
   ]
  },
  {
   "cell_type": "code",
   "execution_count": 412,
   "id": "68266ff1",
   "metadata": {},
   "outputs": [
    {
     "data": {
      "text/plain": [
       "(4521, 17)"
      ]
     },
     "execution_count": 412,
     "metadata": {},
     "output_type": "execute_result"
    }
   ],
   "source": [
    "df.shape"
   ]
  },
  {
   "cell_type": "markdown",
   "id": "cebe5a06",
   "metadata": {},
   "source": [
    "# Visualizing the datasets"
   ]
  },
  {
   "cell_type": "code",
   "execution_count": 413,
   "id": "afb6caed",
   "metadata": {},
   "outputs": [
    {
     "data": {
      "text/plain": [
       "<AxesSubplot: >"
      ]
     },
     "execution_count": 413,
     "metadata": {},
     "output_type": "execute_result"
    },
    {
     "data": {
      "image/png": "[encoded data removed]",
      "text/plain": [
       "<Figure size 1500x600 with 2 Axes>"
      ]
     },
     "metadata": {},
     "output_type": "display_data"
    }
   ],
   "source": [
    "sns.heatmap(df.corr(), fmt='.2g')"
   ]
  },
  {
   "cell_type": "markdown",
   "id": "93df2b31",
   "metadata": {},
   "source": [
    "> Age"
   ]
  },
  {
   "cell_type": "code",
   "execution_count": 414,
   "id": "09834c8d",
   "metadata": {},
   "outputs": [
    {
     "data": {
      "image/png": "[encoded data removed]",
      "text/plain": [
       "<Figure size 1500x600 with 1 Axes>"
      ]
     },
     "metadata": {},
     "output_type": "display_data"
    }
   ],
   "source": [
    "sns.set(rc={'figure.figsize':(15,6)})\n",
    "sns.countplot(x='age', hue='y', data=df)\n",
    "plt.show()"
   ]
  },
  {
   "cell_type": "markdown",
   "id": "6297fbe4",
   "metadata": {},
   "source": [
    "> Martial"
   ]
  },
  {
   "cell_type": "code",
   "execution_count": 415,
   "id": "c17a0465",
   "metadata": {},
   "outputs": [
    {
     "data": {
      "image/png": "[encoded data removed]",
      "text/plain": [
       "<Figure size 1500x600 with 1 Axes>"
      ]
     },
     "metadata": {},
     "output_type": "display_data"
    }
   ],
   "source": [
    "sns.countplot(x='marital', hue='y', data=df)\n",
    "plt.show()"
   ]
  },
  {
   "cell_type": "code",
   "execution_count": 416,
   "id": "d029fd3d",
   "metadata": {},
   "outputs": [
    {
     "data": {
      "text/plain": [
       "<AxesSubplot: xlabel='education', ylabel='count'>"
      ]
     },
     "execution_count": 416,
     "metadata": {},
     "output_type": "execute_result"
    },
    {
     "data": {
      "image/png": "[encoded data removed]",
      "text/plain": [
       "<Figure size 1500x600 with 1 Axes>"
      ]
     },
     "metadata": {},
     "output_type": "display_data"
    }
   ],
   "source": [
    "sns.countplot(x='education',hue='y',data=df)"
   ]
  },
  {
   "cell_type": "markdown",
   "id": "ef25d4b7",
   "metadata": {},
   "source": [
    "> Housing"
   ]
  },
  {
   "cell_type": "code",
   "execution_count": 417,
   "id": "0f47d84e",
   "metadata": {},
   "outputs": [
    {
     "data": {
      "text/plain": [
       "<AxesSubplot: xlabel='housing', ylabel='count'>"
      ]
     },
     "execution_count": 417,
     "metadata": {},
     "output_type": "execute_result"
    },
    {
     "data": {
      "image/png": "[encoded data removed]",
      "text/plain": [
       "<Figure size 1500x600 with 1 Axes>"
      ]
     },
     "metadata": {},
     "output_type": "display_data"
    }
   ],
   "source": [
    "sns.countplot(x='housing',hue='y',data=df)"
   ]
  },
  {
   "cell_type": "code",
   "execution_count": 418,
   "id": "b7a609e3",
   "metadata": {},
   "outputs": [
    {
     "data": {
      "text/plain": [
       "<Figure size 1200x600 with 0 Axes>"
      ]
     },
     "metadata": {},
     "output_type": "display_data"
    },
    {
     "data": {
      "image/png": "[encoded data removed]",
      "text/plain": [
       "<Figure size 1500x600 with 1 Axes>"
      ]
     },
     "metadata": {},
     "output_type": "display_data"
    }
   ],
   "source": [
    "plt.figure(figsize=(12, 6))\n",
    "table = df.pivot_table(index='housing', columns='marital', values='y', aggfunc='count')\n",
    "table.plot.bar()\n",
    "plt.show()"
   ]
  },
  {
   "cell_type": "code",
   "execution_count": 419,
   "id": "af6c5999",
   "metadata": {},
   "outputs": [
    {
     "data": {
      "text/plain": [
       "<AxesSubplot: xlabel='default', ylabel='count'>"
      ]
     },
     "execution_count": 419,
     "metadata": {},
     "output_type": "execute_result"
    },
    {
     "data": {
      "image/png": "[encoded data removed]",
      "text/plain": [
       "<Figure size 1500x600 with 1 Axes>"
      ]
     },
     "metadata": {},
     "output_type": "display_data"
    }
   ],
   "source": [
    "sns.countplot(x='default',hue='y',data=df)"
   ]
  },
  {
   "cell_type": "code",
   "execution_count": 420,
   "id": "074d3272",
   "metadata": {},
   "outputs": [
    {
     "data": {
      "text/html": [
       "<div>\n",
       "<style scoped>\n",
       "    .dataframe tbody tr th:only-of-type {\n",
       "        vertical-align: middle;\n",
       "    }\n",
       "\n",
       "    .dataframe tbody tr th {\n",
       "        vertical-align: top;\n",
       "    }\n",
       "\n",
       "    .dataframe thead th {\n",
       "        text-align: right;\n",
       "    }\n",
       "</style>\n",
       "<table border=\"1\" class=\"dataframe\">\n",
       "  <thead>\n",
       "    <tr style=\"text-align: right;\">\n",
       "      <th>y</th>\n",
       "      <th>no</th>\n",
       "      <th>yes</th>\n",
       "    </tr>\n",
       "    <tr>\n",
       "      <th>default</th>\n",
       "      <th></th>\n",
       "      <th></th>\n",
       "    </tr>\n",
       "  </thead>\n",
       "  <tbody>\n",
       "    <tr>\n",
       "      <th>no</th>\n",
       "      <td>3933</td>\n",
       "      <td>512</td>\n",
       "    </tr>\n",
       "    <tr>\n",
       "      <th>yes</th>\n",
       "      <td>67</td>\n",
       "      <td>9</td>\n",
       "    </tr>\n",
       "  </tbody>\n",
       "</table>\n",
       "</div>"
      ],
      "text/plain": [
       "y          no  yes\n",
       "default           \n",
       "no       3933  512\n",
       "yes        67    9"
      ]
     },
     "execution_count": 420,
     "metadata": {},
     "output_type": "execute_result"
    }
   ],
   "source": [
    "cross_tab_default= pd.crosstab(df['default'],df['y'],margins=False)\n",
    "cross_tab_default"
   ]
  },
  {
   "cell_type": "markdown",
   "id": "8d3f5c9e",
   "metadata": {},
   "source": [
    "> month"
   ]
  },
  {
   "cell_type": "code",
   "execution_count": 421,
   "id": "6b7b9768",
   "metadata": {},
   "outputs": [
    {
     "data": {
      "text/plain": [
       "<AxesSubplot: xlabel='month', ylabel='count'>"
      ]
     },
     "execution_count": 421,
     "metadata": {},
     "output_type": "execute_result"
    },
    {
     "data": {
      "image/png": "[encoded data removed]",
      "text/plain": [
       "<Figure size 1500x600 with 1 Axes>"
      ]
     },
     "metadata": {},
     "output_type": "display_data"
    }
   ],
   "source": [
    "sns.countplot(x='month',hue='y',data=df)"
   ]
  },
  {
   "cell_type": "code",
   "execution_count": 422,
   "id": "7f8d71e6",
   "metadata": {},
   "outputs": [
    {
     "data": {
      "text/plain": [
       "<AxesSubplot: xlabel='job', ylabel='count'>"
      ]
     },
     "execution_count": 422,
     "metadata": {},
     "output_type": "execute_result"
    },
    {
     "data": {
      "image/png": "[encoded data removed]",
      "text/plain": [
       "<Figure size 1500x600 with 1 Axes>"
      ]
     },
     "metadata": {},
     "output_type": "display_data"
    }
   ],
   "source": [
    "sns.countplot(x='job',hue='y',data=df)"
   ]
  },
  {
   "cell_type": "code",
   "execution_count": 423,
   "id": "026675c9",
   "metadata": {},
   "outputs": [
    {
     "data": {
      "text/plain": [
       "<AxesSubplot: xlabel='loan', ylabel='count'>"
      ]
     },
     "execution_count": 423,
     "metadata": {},
     "output_type": "execute_result"
    },
    {
     "data": {
      "image/png": "[encoded data removed]",
      "text/plain": [
       "<Figure size 1500x600 with 1 Axes>"
      ]
     },
     "metadata": {},
     "output_type": "display_data"
    }
   ],
   "source": [
    "sns.countplot(x='loan',hue='y',data=df)"
   ]
  },
  {
   "cell_type": "code",
   "execution_count": 424,
   "id": "61ae61e4",
   "metadata": {},
   "outputs": [
    {
     "data": {
      "text/plain": [
       "Index(['age', 'job', 'marital', 'education', 'default', 'balance', 'housing',\n",
       "       'loan', 'contact', 'day', 'month', 'duration', 'campaign', 'pdays',\n",
       "       'previous', 'poutcome', 'y'],\n",
       "      dtype='object')"
      ]
     },
     "execution_count": 424,
     "metadata": {},
     "output_type": "execute_result"
    }
   ],
   "source": [
    "df.columns"
   ]
  },
  {
   "cell_type": "code",
   "execution_count": 425,
   "id": "e7f7b156",
   "metadata": {},
   "outputs": [
    {
     "data": {
      "text/plain": [
       "<seaborn.axisgrid.FacetGrid at 0x236b21d75b0>"
      ]
     },
     "execution_count": 425,
     "metadata": {},
     "output_type": "execute_result"
    },
    {
     "data": {
      "image/png": "[encoded data removed]",
      "text/plain": [
       "<Figure size 900x600 with 6 Axes>"
      ]
     },
     "metadata": {},
     "output_type": "display_data"
    }
   ],
   "source": [
    "g = sns.FacetGrid(df, col=\"marital\",  row=\"y\")\n",
    "g.map_dataframe(sns.histplot, x=\"housing\")"
   ]
  },
  {
   "cell_type": "code",
   "execution_count": 426,
   "id": "11b35fb0",
   "metadata": {},
   "outputs": [
    {
     "data": {
      "text/plain": [
       "<seaborn.axisgrid.FacetGrid at 0x236b21d76a0>"
      ]
     },
     "execution_count": 426,
     "metadata": {},
     "output_type": "execute_result"
    },
    {
     "data": {
      "image/png": "[encoded data removed]",
      "text/plain": [
       "<Figure size 682.5x350 with 3 Axes>"
      ]
     },
     "metadata": {},
     "output_type": "display_data"
    }
   ],
   "source": [
    "g = sns.FacetGrid(df, col=\"marital\", hue='y',height=3.5, aspect=.65)\n",
    "g.map(sns.histplot, \"age\")"
   ]
  },
  {
   "cell_type": "code",
   "execution_count": 427,
   "id": "bc518916",
   "metadata": {},
   "outputs": [
    {
     "data": {
      "text/plain": [
       "<seaborn.axisgrid.FacetGrid at 0x236b28a42e0>"
      ]
     },
     "execution_count": 427,
     "metadata": {},
     "output_type": "execute_result"
    },
    {
     "data": {
      "image/png": "[encoded data removed]",
      "text/plain": [
       "<Figure size 1400x700 with 8 Axes>"
      ]
     },
     "metadata": {},
     "output_type": "display_data"
    }
   ],
   "source": [
    "g = sns.FacetGrid(df, col=\"education\", row = 'default', height=3.5)\n",
    "g.map(sns.histplot, \"age\")"
   ]
  },
  {
   "cell_type": "code",
   "execution_count": 428,
   "id": "4698ceb5",
   "metadata": {},
   "outputs": [],
   "source": [
    "# label encoding"
   ]
  },
  {
   "cell_type": "code",
   "execution_count": 429,
   "id": "8223fa22",
   "metadata": {},
   "outputs": [],
   "source": [
    "for col in df.columns:\n",
    "    le=LabelEncoder()\n",
    "    le.fit(df[col])\n",
    "    df[col]=le.transform(df[col])\n",
    "    print"
   ]
  },
  {
   "cell_type": "markdown",
   "id": "d6764db5",
   "metadata": {},
   "source": [
    "# Train Validation Split\n"
   ]
  },
  {
   "cell_type": "code",
   "execution_count": 430,
   "id": "4fedb362",
   "metadata": {},
   "outputs": [],
   "source": [
    "#spliting the data into train testing and validation \n",
    "from sklearn.model_selection import train_test_split"
   ]
  },
  {
   "cell_type": "code",
   "execution_count": 431,
   "id": "f39fbd18",
   "metadata": {},
   "outputs": [],
   "source": [
    "train_df,test_df = train_test_split(df,test_size=0.2)"
   ]
  },
  {
   "cell_type": "code",
   "execution_count": 432,
   "id": "b3875cc1",
   "metadata": {},
   "outputs": [],
   "source": [
    "train_df , validation_df= train_test_split(df,test_size=0.2)"
   ]
  },
  {
   "cell_type": "markdown",
   "id": "ca0946fb",
   "metadata": {},
   "source": [
    "> # Resampling"
   ]
  },
  {
   "cell_type": "markdown",
   "id": "e5cf7ff3",
   "metadata": {},
   "source": [
    "- try with 4 different sampling techniques.\n",
    "\n",
    "- No sampling i.e. using the original dataset.\n",
    "- Undersampling/downsampling the majority class\n",
    "- Oversampling/Upsamping the minoring class\n",
    "- SMOTE: Synthetic Minority Oversampling Technique"
   ]
  },
  {
   "cell_type": "markdown",
   "id": "5dc1c84e",
   "metadata": {},
   "source": [
    "# 1. No sampling i.e. with the given dataset\n"
   ]
  },
  {
   "cell_type": "code",
   "execution_count": 433,
   "id": "478549b9",
   "metadata": {},
   "outputs": [
    {
     "data": {
      "text/plain": [
       "0    4000\n",
       "1     521\n",
       "Name: y, dtype: int64"
      ]
     },
     "execution_count": 433,
     "metadata": {},
     "output_type": "execute_result"
    }
   ],
   "source": [
    "df.y.value_counts()"
   ]
  },
  {
   "cell_type": "markdown",
   "id": "f3924ea4",
   "metadata": {},
   "source": [
    "# 2. With undersampling the major class"
   ]
  },
  {
   "cell_type": "code",
   "execution_count": 434,
   "id": "319bb0e7",
   "metadata": {},
   "outputs": [],
   "source": [
    "down_train=train_df['y'].value_counts()"
   ]
  },
  {
   "cell_type": "code",
   "execution_count": 435,
   "id": "62bd2606",
   "metadata": {},
   "outputs": [
    {
     "data": {
      "text/plain": [
       "424"
      ]
     },
     "execution_count": 435,
     "metadata": {},
     "output_type": "execute_result"
    }
   ],
   "source": [
    "min_class_count = down_train.min()\n",
    "min_class_count"
   ]
  },
  {
   "cell_type": "code",
   "execution_count": 436,
   "id": "04bfd139",
   "metadata": {},
   "outputs": [],
   "source": [
    "df_majority = train_df[train_df['y'] == 0]\n",
    "df_minority = train_df[train_df['y'] == 1]\n",
    "majority_indices = np.random.choice(df_majority.index, min_class_count, replace=False)\n",
    "majority_undersampled = df_majority.loc[majority_indices]\n",
    "undersampled_train_df = pd.concat([majority_undersampled, df_minority])"
   ]
  },
  {
   "cell_type": "code",
   "execution_count": 437,
   "id": "8ce62189",
   "metadata": {},
   "outputs": [
    {
     "data": {
      "text/plain": [
       "0    424\n",
       "1    424\n",
       "Name: y, dtype: int64"
      ]
     },
     "execution_count": 437,
     "metadata": {},
     "output_type": "execute_result"
    }
   ],
   "source": [
    "undersampled_train_df.y.value_counts()"
   ]
  },
  {
   "cell_type": "markdown",
   "id": "9b32d0a0",
   "metadata": {},
   "source": [
    "# 3. With oversampling the minor class"
   ]
  },
  {
   "cell_type": "code",
   "execution_count": 438,
   "id": "476f1990",
   "metadata": {},
   "outputs": [],
   "source": [
    "# Oversample the minority class in the train dataset\n",
    "minority_indices = np.random.choice(df_minority.index, min_class_count, replace=True)\n",
    "minority_oversampled = df_minority.loc[minority_indices]\n",
    "oversampled_train_df = pd.concat([df_majority, minority_oversampled])"
   ]
  },
  {
   "cell_type": "code",
   "execution_count": 439,
   "id": "c7c8139e",
   "metadata": {},
   "outputs": [
    {
     "data": {
      "text/plain": [
       "0    3192\n",
       "1     424\n",
       "Name: y, dtype: int64"
      ]
     },
     "execution_count": 439,
     "metadata": {},
     "output_type": "execute_result"
    }
   ],
   "source": [
    "oversampled_train_df.y.value_counts()"
   ]
  },
  {
   "cell_type": "markdown",
   "id": "701ceb75",
   "metadata": {},
   "source": [
    "# 4. With SMOTE"
   ]
  },
  {
   "cell_type": "code",
   "execution_count": 440,
   "id": "91340a7a",
   "metadata": {},
   "outputs": [],
   "source": [
    "from imblearn.over_sampling import SMOTE"
   ]
  },
  {
   "cell_type": "code",
   "execution_count": 441,
   "id": "7038d076",
   "metadata": {},
   "outputs": [],
   "source": [
    "# SMOTE oversampling the minority class in the train dataset\n",
    "smote = SMOTE(sampling_strategy='minority')\n",
    "train_df_resampled, train_df_y = smote.fit_resample(train_df.drop('y', axis=1), train_df['y'])\n",
    "train_df_resampled = pd.DataFrame(train_df_resampled, columns=train_df.drop('y', axis=1).columns)\n",
    "train_df_resampled['y'] = train_df_y"
   ]
  },
  {
   "cell_type": "code",
   "execution_count": 442,
   "id": "5ebbe83d",
   "metadata": {},
   "outputs": [
    {
     "data": {
      "text/plain": [
       "0    3192\n",
       "1    3192\n",
       "Name: y, dtype: int64"
      ]
     },
     "execution_count": 442,
     "metadata": {},
     "output_type": "execute_result"
    }
   ],
   "source": [
    "train_df_resampled.y.value_counts()"
   ]
  },
  {
   "cell_type": "code",
   "execution_count": 443,
   "id": "132b7d17",
   "metadata": {},
   "outputs": [],
   "source": [
    "# merging the datasets for feature engineering"
   ]
  },
  {
   "cell_type": "code",
   "execution_count": 513,
   "id": "7b57d712",
   "metadata": {},
   "outputs": [],
   "source": [
    "dataset = pd.concat([train_df, test_df, validation_df], ignore_index=True)\n",
    "dataset_down = pd.concat([undersampled_train_df,test_df,validation_df],ignore_index=True)\n",
    "dataset_up = pd.concat([oversampled_train_df,test_df,validation_df],ignore_index=True)\n",
    "dataset_smote= pd.concat([train_df_resampled,test_df,validation_df],ignore_index=True)"
   ]
  },
  {
   "cell_type": "markdown",
   "id": "313578e2",
   "metadata": {},
   "source": [
    "# FEATURE SELECTION\n",
    "- using chi-square test"
   ]
  },
  {
   "cell_type": "code",
   "execution_count": 445,
   "id": "87b445e3",
   "metadata": {},
   "outputs": [],
   "source": [
    "#y - has the client subscribed a term deposit? (binary: 'yes','no')"
   ]
  },
  {
   "cell_type": "markdown",
   "id": "346eaa78",
   "metadata": {},
   "source": [
    "# Hypothesis\n",
    "### Is there any association between features and target variable?"
   ]
  },
  {
   "cell_type": "markdown",
   "id": "fde42d6d",
   "metadata": {},
   "source": [
    "### CHI- Square test using sklearn library"
   ]
  },
  {
   "cell_type": "code",
   "execution_count": 446,
   "id": "3e2eaab5",
   "metadata": {},
   "outputs": [],
   "source": [
    "from sklearn.feature_selection import SelectKBest, chi2"
   ]
  },
  {
   "cell_type": "code",
   "execution_count": 447,
   "id": "9d0a0680",
   "metadata": {},
   "outputs": [],
   "source": [
    "# Split the data into features and target\n",
    "X = df.drop('y', axis=1)\n",
    "y = df['y']"
   ]
  },
  {
   "cell_type": "code",
   "execution_count": 448,
   "id": "eda675cf",
   "metadata": {},
   "outputs": [],
   "source": [
    "# Calculate the chi-square statistic between each feature and the target\n",
    "ch2 = SelectKBest(chi2, k=5)\n",
    "X_new = ch2.fit_transform(X, y)"
   ]
  },
  {
   "cell_type": "code",
   "execution_count": 449,
   "id": "f418e2a0",
   "metadata": {},
   "outputs": [],
   "source": [
    "# Create a new DataFrame to store the results\n",
    "results = pd.DataFrame(ch2.scores_, columns=['chi2_score'])"
   ]
  },
  {
   "cell_type": "code",
   "execution_count": 450,
   "id": "658af99b",
   "metadata": {},
   "outputs": [],
   "source": [
    "# Add the column names to the results\n",
    "results['column_name'] = X.columns"
   ]
  },
  {
   "cell_type": "code",
   "execution_count": 451,
   "id": "7189d5e5",
   "metadata": {},
   "outputs": [],
   "source": [
    "# Sort the results by chi-square score\n",
    "results.sort_values(by='chi2_score', ascending=False, inplace=True)"
   ]
  },
  {
   "cell_type": "code",
   "execution_count": 452,
   "id": "372a985a",
   "metadata": {},
   "outputs": [
    {
     "data": {
      "text/html": [
       "<div>\n",
       "<style scoped>\n",
       "    .dataframe tbody tr th:only-of-type {\n",
       "        vertical-align: middle;\n",
       "    }\n",
       "\n",
       "    .dataframe tbody tr th {\n",
       "        vertical-align: top;\n",
       "    }\n",
       "\n",
       "    .dataframe thead th {\n",
       "        text-align: right;\n",
       "    }\n",
       "</style>\n",
       "<table border=\"1\" class=\"dataframe\">\n",
       "  <thead>\n",
       "    <tr style=\"text-align: right;\">\n",
       "      <th></th>\n",
       "      <th>chi2_score</th>\n",
       "      <th>column_name</th>\n",
       "    </tr>\n",
       "  </thead>\n",
       "  <tbody>\n",
       "    <tr>\n",
       "      <th>11</th>\n",
       "      <td>119483.934433</td>\n",
       "      <td>duration</td>\n",
       "    </tr>\n",
       "    <tr>\n",
       "      <th>5</th>\n",
       "      <td>11343.977063</td>\n",
       "      <td>balance</td>\n",
       "    </tr>\n",
       "    <tr>\n",
       "      <th>13</th>\n",
       "      <td>5374.899618</td>\n",
       "      <td>pdays</td>\n",
       "    </tr>\n",
       "    <tr>\n",
       "      <th>14</th>\n",
       "      <td>330.260342</td>\n",
       "      <td>previous</td>\n",
       "    </tr>\n",
       "    <tr>\n",
       "      <th>8</th>\n",
       "      <td>100.510079</td>\n",
       "      <td>contact</td>\n",
       "    </tr>\n",
       "    <tr>\n",
       "      <th>12</th>\n",
       "      <td>88.072902</td>\n",
       "      <td>campaign</td>\n",
       "    </tr>\n",
       "    <tr>\n",
       "      <th>0</th>\n",
       "      <td>45.840630</td>\n",
       "      <td>age</td>\n",
       "    </tr>\n",
       "    <tr>\n",
       "      <th>6</th>\n",
       "      <td>21.500801</td>\n",
       "      <td>housing</td>\n",
       "    </tr>\n",
       "    <tr>\n",
       "      <th>7</th>\n",
       "      <td>19.045258</td>\n",
       "      <td>loan</td>\n",
       "    </tr>\n",
       "    <tr>\n",
       "      <th>10</th>\n",
       "      <td>12.325412</td>\n",
       "      <td>month</td>\n",
       "    </tr>\n",
       "    <tr>\n",
       "      <th>15</th>\n",
       "      <td>11.868708</td>\n",
       "      <td>poutcome</td>\n",
       "    </tr>\n",
       "    <tr>\n",
       "      <th>1</th>\n",
       "      <td>8.154597</td>\n",
       "      <td>job</td>\n",
       "    </tr>\n",
       "    <tr>\n",
       "      <th>3</th>\n",
       "      <td>3.802675</td>\n",
       "      <td>education</td>\n",
       "    </tr>\n",
       "    <tr>\n",
       "      <th>9</th>\n",
       "      <td>2.606315</td>\n",
       "      <td>day</td>\n",
       "    </tr>\n",
       "    <tr>\n",
       "      <th>2</th>\n",
       "      <td>0.320397</td>\n",
       "      <td>marital</td>\n",
       "    </tr>\n",
       "    <tr>\n",
       "      <th>4</th>\n",
       "      <td>0.007543</td>\n",
       "      <td>default</td>\n",
       "    </tr>\n",
       "  </tbody>\n",
       "</table>\n",
       "</div>"
      ],
      "text/plain": [
       "       chi2_score column_name\n",
       "11  119483.934433    duration\n",
       "5    11343.977063     balance\n",
       "13    5374.899618       pdays\n",
       "14     330.260342    previous\n",
       "8      100.510079     contact\n",
       "12      88.072902    campaign\n",
       "0       45.840630         age\n",
       "6       21.500801     housing\n",
       "7       19.045258        loan\n",
       "10      12.325412       month\n",
       "15      11.868708    poutcome\n",
       "1        8.154597         job\n",
       "3        3.802675   education\n",
       "9        2.606315         day\n",
       "2        0.320397     marital\n",
       "4        0.007543     default"
      ]
     },
     "execution_count": 452,
     "metadata": {},
     "output_type": "execute_result"
    }
   ],
   "source": [
    "results"
   ]
  },
  {
   "cell_type": "markdown",
   "id": "9559c564",
   "metadata": {},
   "source": [
    " #### Inference\n",
    "- According to the results, the feature \"duration\" has the highest chi-square score, indicating a strong relationship between that feature and the target. \n",
    "- The features \"pdays\" and \"balance\" also have relatively high chi-square scores, indicating that they are informative predictors.\n",
    "- Features with lower scores, such as \"marital\" and \"default\" are considered to have weaker relationships with the target.\n",
    "- For feature selection we can select the top k features with the highest scores for use in a machine learning model."
   ]
  },
  {
   "cell_type": "markdown",
   "id": "d7626f8f",
   "metadata": {},
   "source": [
    "# FEATURE ENGINEERING\n",
    "- sampling\n",
    "- standardization \n",
    "- PCA"
   ]
  },
  {
   "cell_type": "code",
   "execution_count": 453,
   "id": "25a35e5f",
   "metadata": {},
   "outputs": [],
   "source": [
    "x_new = df[['duration','pdays','balance','previous','contact']]\n",
    "y_new=df['y']"
   ]
  },
  {
   "cell_type": "code",
   "execution_count": 454,
   "id": "40bde6b4",
   "metadata": {},
   "outputs": [
    {
     "data": {
      "text/html": [
       "<div>\n",
       "<style scoped>\n",
       "    .dataframe tbody tr th:only-of-type {\n",
       "        vertical-align: middle;\n",
       "    }\n",
       "\n",
       "    .dataframe tbody tr th {\n",
       "        vertical-align: top;\n",
       "    }\n",
       "\n",
       "    .dataframe thead th {\n",
       "        text-align: right;\n",
       "    }\n",
       "</style>\n",
       "<table border=\"1\" class=\"dataframe\">\n",
       "  <thead>\n",
       "    <tr style=\"text-align: right;\">\n",
       "      <th></th>\n",
       "      <th>duration</th>\n",
       "      <th>pdays</th>\n",
       "      <th>balance</th>\n",
       "      <th>previous</th>\n",
       "      <th>contact</th>\n",
       "    </tr>\n",
       "  </thead>\n",
       "  <tbody>\n",
       "    <tr>\n",
       "      <th>0</th>\n",
       "      <td>75</td>\n",
       "      <td>0</td>\n",
       "      <td>1475</td>\n",
       "      <td>0</td>\n",
       "      <td>0</td>\n",
       "    </tr>\n",
       "    <tr>\n",
       "      <th>1</th>\n",
       "      <td>216</td>\n",
       "      <td>228</td>\n",
       "      <td>2030</td>\n",
       "      <td>4</td>\n",
       "      <td>0</td>\n",
       "    </tr>\n",
       "    <tr>\n",
       "      <th>2</th>\n",
       "      <td>181</td>\n",
       "      <td>219</td>\n",
       "      <td>1303</td>\n",
       "      <td>1</td>\n",
       "      <td>0</td>\n",
       "    </tr>\n",
       "    <tr>\n",
       "      <th>3</th>\n",
       "      <td>195</td>\n",
       "      <td>0</td>\n",
       "      <td>1352</td>\n",
       "      <td>0</td>\n",
       "      <td>2</td>\n",
       "    </tr>\n",
       "    <tr>\n",
       "      <th>4</th>\n",
       "      <td>222</td>\n",
       "      <td>0</td>\n",
       "      <td>274</td>\n",
       "      <td>0</td>\n",
       "      <td>2</td>\n",
       "    </tr>\n",
       "    <tr>\n",
       "      <th>...</th>\n",
       "      <td>...</td>\n",
       "      <td>...</td>\n",
       "      <td>...</td>\n",
       "      <td>...</td>\n",
       "      <td>...</td>\n",
       "    </tr>\n",
       "    <tr>\n",
       "      <th>4516</th>\n",
       "      <td>325</td>\n",
       "      <td>0</td>\n",
       "      <td>119</td>\n",
       "      <td>0</td>\n",
       "      <td>0</td>\n",
       "    </tr>\n",
       "    <tr>\n",
       "      <th>4517</th>\n",
       "      <td>149</td>\n",
       "      <td>0</td>\n",
       "      <td>0</td>\n",
       "      <td>0</td>\n",
       "      <td>2</td>\n",
       "    </tr>\n",
       "    <tr>\n",
       "      <th>4518</th>\n",
       "      <td>147</td>\n",
       "      <td>0</td>\n",
       "      <td>558</td>\n",
       "      <td>0</td>\n",
       "      <td>0</td>\n",
       "    </tr>\n",
       "    <tr>\n",
       "      <th>4519</th>\n",
       "      <td>125</td>\n",
       "      <td>140</td>\n",
       "      <td>1187</td>\n",
       "      <td>3</td>\n",
       "      <td>0</td>\n",
       "    </tr>\n",
       "    <tr>\n",
       "      <th>4520</th>\n",
       "      <td>341</td>\n",
       "      <td>161</td>\n",
       "      <td>1186</td>\n",
       "      <td>7</td>\n",
       "      <td>0</td>\n",
       "    </tr>\n",
       "  </tbody>\n",
       "</table>\n",
       "<p>4521 rows × 5 columns</p>\n",
       "</div>"
      ],
      "text/plain": [
       "      duration  pdays  balance  previous  contact\n",
       "0           75      0     1475         0        0\n",
       "1          216    228     2030         4        0\n",
       "2          181    219     1303         1        0\n",
       "3          195      0     1352         0        2\n",
       "4          222      0      274         0        2\n",
       "...        ...    ...      ...       ...      ...\n",
       "4516       325      0      119         0        0\n",
       "4517       149      0        0         0        2\n",
       "4518       147      0      558         0        0\n",
       "4519       125    140     1187         3        0\n",
       "4520       341    161     1186         7        0\n",
       "\n",
       "[4521 rows x 5 columns]"
      ]
     },
     "execution_count": 454,
     "metadata": {},
     "output_type": "execute_result"
    }
   ],
   "source": [
    "x_new"
   ]
  },
  {
   "cell_type": "code",
   "execution_count": 455,
   "id": "b7b29d7e",
   "metadata": {},
   "outputs": [],
   "source": [
    "from sklearn.model_selection import train_test_split"
   ]
  },
  {
   "cell_type": "code",
   "execution_count": 456,
   "id": "1e0b55ef",
   "metadata": {},
   "outputs": [],
   "source": [
    "from sklearn.preprocessing import StandardScaler\n",
    "scaler =StandardScaler()\n",
    "x_scaled = scaler.fit_transform(x_new)"
   ]
  },
  {
   "cell_type": "code",
   "execution_count": 457,
   "id": "94947c56",
   "metadata": {},
   "outputs": [],
   "source": [
    "from sklearn.decomposition import PCA\n",
    "pca = PCA(0.95)\n",
    "x_scaled_pca = pca.fit_transform(x_scaled)"
   ]
  },
  {
   "cell_type": "markdown",
   "id": "991f8383",
   "metadata": {},
   "source": [
    "# MODEL BUILDING\n",
    "- logictic regression\n",
    "- random forest tree"
   ]
  },
  {
   "cell_type": "markdown",
   "id": "f1ebb5c2",
   "metadata": {},
   "source": [
    "> ## Logistic Regression"
   ]
  },
  {
   "cell_type": "code",
   "execution_count": 458,
   "id": "2329d51f",
   "metadata": {},
   "outputs": [],
   "source": [
    "#splitting data into training and testing datasets\n",
    "X_train , X_test , y_train , y_test = train_test_split(x_scaled_pca, y , test_size=0.2,random_state=0)"
   ]
  },
  {
   "cell_type": "code",
   "execution_count": 459,
   "id": "b23c5187",
   "metadata": {},
   "outputs": [
    {
     "data": {
      "text/plain": [
       "LogisticRegression()"
      ]
     },
     "execution_count": 459,
     "metadata": {},
     "output_type": "execute_result"
    }
   ],
   "source": [
    "from sklearn.linear_model import LogisticRegression\n",
    "clf = LogisticRegression()\n",
    "clf.fit(X_train,y_train)"
   ]
  },
  {
   "cell_type": "code",
   "execution_count": 460,
   "id": "0eaeba1a",
   "metadata": {},
   "outputs": [],
   "source": [
    "y_pred = clf.predict(X_test)"
   ]
  },
  {
   "cell_type": "markdown",
   "id": "51fa0740",
   "metadata": {},
   "source": [
    "## MODEL EVALUATION For Logistic Regression\n",
    "- accuracy\n",
    "- precision\n",
    "- recall \n",
    "- F1-score.\n"
   ]
  },
  {
   "cell_type": "code",
   "execution_count": 461,
   "id": "4d3fa66c",
   "metadata": {},
   "outputs": [],
   "source": [
    "from sklearn.metrics import accuracy_score, precision_score, recall_score, f1_score, confusion_matrix, roc_auc_score\n",
    "accuracy = accuracy_score(y_test, y_pred)"
   ]
  },
  {
   "cell_type": "code",
   "execution_count": 462,
   "id": "3dc0c170",
   "metadata": {},
   "outputs": [
    {
     "name": "stdout",
     "output_type": "stream",
     "text": [
      "Accuracy: 88.95%\n",
      "Precision: 60.00%\n",
      "Recall: 32.14%\n",
      "F1 Score: 0.42\n"
     ]
    }
   ],
   "source": [
    "accuracy = accuracy_score(y_test, y_pred)\n",
    "print(\"Accuracy: {:.2f}%\".format(accuracy * 100))\n",
    "precision = precision_score(y_test, y_pred)\n",
    "print(\"Precision: {:.2f}%\".format(precision * 100))\n",
    "recall = recall_score(y_test, y_pred)\n",
    "print(\"Recall: {:.2f}%\".format(recall * 100))\n",
    "f1 = f1_score(y_test, y_pred)\n",
    "print(\"F1 Score: {:.2f}\".format(f1))"
   ]
  },
  {
   "cell_type": "markdown",
   "id": "024c0dd2",
   "metadata": {},
   "source": [
    "-  A precision of 66.67% means that out of all the samples classified as positive, 66.67% are actually positive and the rest are false positive.\n",
    "- A recall of 26.67% means that out of all the positive samples in the dataset, only 26.67% are correctly classified as positive.\n",
    "- A F1 Score of 0.38 indicates that the classifier is not performing well in either precision or recall. "
   ]
  },
  {
   "cell_type": "code",
   "execution_count": 463,
   "id": "40582309",
   "metadata": {},
   "outputs": [],
   "source": [
    "# Logistic on Resampling datasets"
   ]
  },
  {
   "cell_type": "code",
   "execution_count": 464,
   "id": "ef76db7e",
   "metadata": {},
   "outputs": [],
   "source": [
    "# Remove the unused label from the target variable\n",
    "#train_df =train_df.drop(['y'],axis=1,inplace=True)\n",
    "#validation_df=validation_df.drop(['y'],axis=1, inplace=True)"
   ]
  },
  {
   "cell_type": "markdown",
   "id": "86a21402",
   "metadata": {},
   "source": [
    "# With downsampled datasets"
   ]
  },
  {
   "cell_type": "code",
   "execution_count": 465,
   "id": "2525394a",
   "metadata": {},
   "outputs": [],
   "source": [
    "X_down = dataset_down.drop('y',axis=1)\n",
    "y_down = dataset_down['y']"
   ]
  },
  {
   "cell_type": "code",
   "execution_count": 466,
   "id": "39e2b433",
   "metadata": {},
   "outputs": [],
   "source": [
    "X_train_down,X_test_down,y_train_down,y_test=train_test_split(X_down,y_down,test_size=0.2)"
   ]
  },
  {
   "cell_type": "code",
   "execution_count": 467,
   "id": "805a2584",
   "metadata": {},
   "outputs": [
    {
     "name": "stderr",
     "output_type": "stream",
     "text": [
      "C:\\Users\\Lenovo\\anaconda3\\lib\\site-packages\\sklearn\\linear_model\\_logistic.py:814: ConvergenceWarning: lbfgs failed to converge (status=1):\n",
      "STOP: TOTAL NO. of ITERATIONS REACHED LIMIT.\n",
      "\n",
      "Increase the number of iterations (max_iter) or scale the data as shown in:\n",
      "    https://scikit-learn.org/stable/modules/preprocessing.html\n",
      "Please also refer to the documentation for alternative solver options:\n",
      "    https://scikit-learn.org/stable/modules/linear_model.html#logistic-regression\n",
      "  n_iter_i = _check_optimize_result(\n"
     ]
    },
    {
     "data": {
      "text/plain": [
       "LogisticRegression()"
      ]
     },
     "execution_count": 467,
     "metadata": {},
     "output_type": "execute_result"
    }
   ],
   "source": [
    "logreg = LogisticRegression(solver='lbfgs')\n",
    "logreg.fit(X_train_down,y_train_down)"
   ]
  },
  {
   "cell_type": "code",
   "execution_count": 468,
   "id": "18f86d0e",
   "metadata": {},
   "outputs": [],
   "source": [
    "predictions = logreg.predict(X_test_down)"
   ]
  },
  {
   "cell_type": "code",
   "execution_count": 469,
   "id": "17abdcc6",
   "metadata": {},
   "outputs": [
    {
     "name": "stdout",
     "output_type": "stream",
     "text": [
      "Accuracy: 80.64%\n",
      "Precision: 61.45%\n",
      "Recall: 41.80%\n",
      "F1 Score: 0.50\n"
     ]
    }
   ],
   "source": [
    "accuracy = accuracy_score(y_test, predictions)\n",
    "print(\"Accuracy: {:.2f}%\".format(accuracy * 100))\n",
    "precision = precision_score(y_test, predictions)\n",
    "print(\"Precision: {:.2f}%\".format(precision * 100))\n",
    "recall = recall_score(y_test, predictions)\n",
    "print(\"Recall: {:.2f}%\".format(recall * 100))\n",
    "f1 = f1_score(y_test, predictions)\n",
    "print(\"F1 Score: {:.2f}\".format(f1))"
   ]
  },
  {
   "cell_type": "markdown",
   "id": "d777fa8d",
   "metadata": {},
   "source": [
    "# down-up datasets"
   ]
  },
  {
   "cell_type": "code",
   "execution_count": 470,
   "id": "8e4b2fa8",
   "metadata": {},
   "outputs": [
    {
     "data": {
      "text/plain": [
       "0    4794\n",
       "1     632\n",
       "Name: y, dtype: int64"
      ]
     },
     "execution_count": 470,
     "metadata": {},
     "output_type": "execute_result"
    }
   ],
   "source": [
    "dataset_up.y.value_counts()"
   ]
  },
  {
   "cell_type": "code",
   "execution_count": 504,
   "id": "242ff9b7",
   "metadata": {},
   "outputs": [],
   "source": [
    "def logistic_regression(X_train_up,X_test_up,y_train_up,y_test_up):\n",
    "    # Train the logistic regression model\n",
    "    logreg = LogisticRegression(solver='lbfgs')\n",
    "    logreg.fit(X_train_up,y_train_up )\n",
    "\n",
    "    # Make predictions on the test data\n",
    "    predictions = logreg.predict(X_test_up)\n",
    "\n",
    "    # Calculate the accuracy of the model\n",
    "    accuracy = accuracy_score(y_test_up, predictions)\n",
    "\n",
    "    return logreg, accuracy"
   ]
  },
  {
   "cell_type": "code",
   "execution_count": 505,
   "id": "79c296af",
   "metadata": {},
   "outputs": [],
   "source": [
    "X_dataset_up = dataset_up.drop('y',axis=1)\n",
    "y_dataset_up = dataset_up['y']"
   ]
  },
  {
   "cell_type": "code",
   "execution_count": 506,
   "id": "2de6975e",
   "metadata": {},
   "outputs": [
    {
     "data": {
      "text/plain": [
       "0    4794\n",
       "1     632\n",
       "Name: y, dtype: int64"
      ]
     },
     "execution_count": 506,
     "metadata": {},
     "output_type": "execute_result"
    }
   ],
   "source": [
    "y_dataset_up.value_counts()"
   ]
  },
  {
   "cell_type": "code",
   "execution_count": 507,
   "id": "cb6b7088",
   "metadata": {},
   "outputs": [],
   "source": [
    "X_train_up,X_test_up,y_train_up,y_test_up=train_test_split(X_dataset_up,y_dataset_up,test_size=0.2)"
   ]
  },
  {
   "cell_type": "code",
   "execution_count": 508,
   "id": "3b062531",
   "metadata": {},
   "outputs": [
    {
     "name": "stderr",
     "output_type": "stream",
     "text": [
      "C:\\Users\\Lenovo\\anaconda3\\lib\\site-packages\\sklearn\\linear_model\\_logistic.py:814: ConvergenceWarning: lbfgs failed to converge (status=1):\n",
      "STOP: TOTAL NO. of ITERATIONS REACHED LIMIT.\n",
      "\n",
      "Increase the number of iterations (max_iter) or scale the data as shown in:\n",
      "    https://scikit-learn.org/stable/modules/preprocessing.html\n",
      "Please also refer to the documentation for alternative solver options:\n",
      "    https://scikit-learn.org/stable/modules/linear_model.html#logistic-regression\n",
      "  n_iter_i = _check_optimize_result(\n"
     ]
    }
   ],
   "source": [
    "logreg, accuracy = logistic_regression(X_train_up, X_test_up, y_train_up, y_test_up)"
   ]
  },
  {
   "cell_type": "code",
   "execution_count": 509,
   "id": "3ef30c71",
   "metadata": {},
   "outputs": [
    {
     "name": "stdout",
     "output_type": "stream",
     "text": [
      "Accuracy:  0.8830570902394107\n",
      "Precison:  0.6144578313253012\n",
      "recall:  0.4180327868852459\n",
      "f1 score:  0.4975609756097561\n"
     ]
    }
   ],
   "source": [
    "print(\"Accuracy: \", accuracy)\n",
    "print(\"Precison: \",precision)\n",
    "print(\"recall: \" ,recall)\n",
    "print(\"f1 score: \", f1)"
   ]
  },
  {
   "cell_type": "markdown",
   "id": "3385c0ed",
   "metadata": {},
   "source": [
    "# With smote datasets"
   ]
  },
  {
   "cell_type": "code",
   "execution_count": 477,
   "id": "cb4f3227",
   "metadata": {},
   "outputs": [
    {
     "data": {
      "text/plain": [
       "0    4794\n",
       "1    3400\n",
       "Name: y, dtype: int64"
      ]
     },
     "execution_count": 477,
     "metadata": {},
     "output_type": "execute_result"
    }
   ],
   "source": [
    "dataset_smote.y.value_counts()"
   ]
  },
  {
   "cell_type": "code",
   "execution_count": 478,
   "id": "e1a20780",
   "metadata": {},
   "outputs": [],
   "source": [
    "X_smote = dataset_smote.drop('y',axis=1)\n",
    "y_smote = dataset_smote['y']"
   ]
  },
  {
   "cell_type": "code",
   "execution_count": 479,
   "id": "f154bea7",
   "metadata": {},
   "outputs": [],
   "source": [
    "X_train_smote,X_test_smote,y_train_smote,y_test_smote=train_test_split(X_smote,y_smote,test_size=0.2)"
   ]
  },
  {
   "cell_type": "code",
   "execution_count": 503,
   "id": "2f0a5012",
   "metadata": {
    "collapsed": true
   },
   "outputs": [
    {
     "name": "stderr",
     "output_type": "stream",
     "text": [
      "C:\\Users\\Lenovo\\anaconda3\\lib\\site-packages\\sklearn\\linear_model\\_logistic.py:814: ConvergenceWarning: lbfgs failed to converge (status=1):\n",
      "STOP: TOTAL NO. of ITERATIONS REACHED LIMIT.\n",
      "\n",
      "Increase the number of iterations (max_iter) or scale the data as shown in:\n",
      "    https://scikit-learn.org/stable/modules/preprocessing.html\n",
      "Please also refer to the documentation for alternative solver options:\n",
      "    https://scikit-learn.org/stable/modules/linear_model.html#logistic-regression\n",
      "  n_iter_i = _check_optimize_result(\n"
     ]
    }
   ],
   "source": [
    "logreg, accuracy = logistic_regression(X_train_smote,X_test_smote,y_train_smote,y_test_smote)"
   ]
  },
  {
   "cell_type": "code",
   "execution_count": 481,
   "id": "81124bd1",
   "metadata": {},
   "outputs": [
    {
     "name": "stdout",
     "output_type": "stream",
     "text": [
      "Accuracy:  0.8017083587553386\n",
      "Precison:  0.6144578313253012\n",
      "recall:  0.4180327868852459\n",
      "f1 score:  0.4975609756097561\n"
     ]
    }
   ],
   "source": [
    "print(\"Accuracy: \", accuracy)\n",
    "print(\"Precison: \",precision)\n",
    "print(\"recall: \" ,recall)\n",
    "print(\"f1 score: \", f1)"
   ]
  },
  {
   "cell_type": "markdown",
   "id": "fa4af2be",
   "metadata": {},
   "source": [
    "> ## Random Forest Algorithm"
   ]
  },
  {
   "cell_type": "code",
   "execution_count": 482,
   "id": "0a9df57f",
   "metadata": {},
   "outputs": [],
   "source": [
    "X=df.drop('y',axis=1)\n",
    "y=df['y']"
   ]
  },
  {
   "cell_type": "code",
   "execution_count": 483,
   "id": "23a3fae6",
   "metadata": {},
   "outputs": [],
   "source": [
    "from sklearn.ensemble import RandomForestClassifier"
   ]
  },
  {
   "cell_type": "code",
   "execution_count": 484,
   "id": "969add54",
   "metadata": {},
   "outputs": [],
   "source": [
    "X_train,X_test,y_train,y_test=train_test_split(X,y,test_size=0.2)"
   ]
  },
  {
   "cell_type": "code",
   "execution_count": 485,
   "id": "1211d0e2",
   "metadata": {},
   "outputs": [
    {
     "data": {
      "text/plain": [
       "RandomForestClassifier(random_state=0)"
      ]
     },
     "execution_count": 485,
     "metadata": {},
     "output_type": "execute_result"
    }
   ],
   "source": [
    "classifier = RandomForestClassifier(n_estimators=100, random_state=0)\n",
    "classifier.fit(X_train, y_train)"
   ]
  },
  {
   "cell_type": "code",
   "execution_count": 486,
   "id": "b7d7be3c",
   "metadata": {},
   "outputs": [],
   "source": [
    "y_pred = classifier.predict(X_test)"
   ]
  },
  {
   "cell_type": "code",
   "execution_count": 487,
   "id": "8acd0755",
   "metadata": {},
   "outputs": [],
   "source": [
    "accuracy = accuracy_score(y_test, y_pred)\n",
    "precision1 = precision_score(y_test, y_pred)\n",
    "recall1 = recall_score(y_test, y_pred)\n",
    "f11 = f1_score(y_test, y_pred)\n",
    "confusion_matrix1 = confusion_matrix(y_test, y_pred)"
   ]
  },
  {
   "cell_type": "code",
   "execution_count": 488,
   "id": "3074a00c",
   "metadata": {},
   "outputs": [
    {
     "name": "stdout",
     "output_type": "stream",
     "text": [
      "Accuracy: 87.40%\n",
      "Precision: 60.00%\n",
      "Recall: 32.35%\n",
      "f1: 42.04%\n"
     ]
    }
   ],
   "source": [
    "print(\"Accuracy: {:.2f}%\".format(accuracy1 * 100))\n",
    "print(\"Precision: {:.2f}%\".format(precision1 * 100))\n",
    "print(\"Recall: {:.2f}%\".format(recall1 * 100))\n",
    "print(\"f1: {:.2f}%\".format(f11 * 100))"
   ]
  },
  {
   "cell_type": "markdown",
   "id": "c944a29d",
   "metadata": {},
   "source": [
    "> ### datasets down"
   ]
  },
  {
   "cell_type": "code",
   "execution_count": 489,
   "id": "64ba7767",
   "metadata": {},
   "outputs": [],
   "source": [
    "X_train_down,X_test_down,y_train_down,y_test=train_test_split(X_down,y_down,test_size=0.2)"
   ]
  },
  {
   "cell_type": "code",
   "execution_count": 490,
   "id": "6038d3de",
   "metadata": {},
   "outputs": [
    {
     "data": {
      "text/plain": [
       "RandomForestClassifier(random_state=0)"
      ]
     },
     "execution_count": 490,
     "metadata": {},
     "output_type": "execute_result"
    }
   ],
   "source": [
    "classifier = RandomForestClassifier(n_estimators=100, random_state=0)\n",
    "classifier.fit(X_train_down, y_train_down)"
   ]
  },
  {
   "cell_type": "code",
   "execution_count": 491,
   "id": "2043cede",
   "metadata": {},
   "outputs": [],
   "source": [
    "y_pred = classifier.predict(X_test_down)"
   ]
  },
  {
   "cell_type": "code",
   "execution_count": 492,
   "id": "e3b61d9b",
   "metadata": {},
   "outputs": [],
   "source": [
    "accuracy = accuracy_score(y_test, y_pred)\n",
    "precision1 = precision_score(y_test, y_pred)\n",
    "recall1 = recall_score(y_test, y_pred)\n",
    "f11 = f1_score(y_test, y_pred)\n",
    "confusion_matrix1 = confusion_matrix(y_test, y_pred)"
   ]
  },
  {
   "cell_type": "code",
   "execution_count": 493,
   "id": "49a5b82c",
   "metadata": {},
   "outputs": [
    {
     "name": "stdout",
     "output_type": "stream",
     "text": [
      "Accuracy: 88.16%\n",
      "Precision: 61.45%\n",
      "Recall: 41.80%\n",
      "f1: 49.76%\n"
     ]
    }
   ],
   "source": [
    "print(\"Accuracy: {:.2f}%\".format(accuracy * 100))\n",
    "print(\"Precision: {:.2f}%\".format(precision * 100))\n",
    "print(\"Recall: {:.2f}%\".format(recall * 100))\n",
    "print(\"f1: {:.2f}%\".format(f1 * 100))"
   ]
  },
  {
   "cell_type": "markdown",
   "id": "954e6cde",
   "metadata": {},
   "source": [
    "> ### datasets up"
   ]
  },
  {
   "cell_type": "code",
   "execution_count": 515,
   "id": "ff182f51",
   "metadata": {},
   "outputs": [
    {
     "data": {
      "text/plain": [
       "RandomForestClassifier(random_state=0)"
      ]
     },
     "execution_count": 515,
     "metadata": {},
     "output_type": "execute_result"
    }
   ],
   "source": [
    "classifier_up = RandomForestClassifier(n_estimators=100, random_state=0)\n",
    "classifier_up.fit(X_train_up, y_train_up)"
   ]
  },
  {
   "cell_type": "code",
   "execution_count": 516,
   "id": "15bb594e",
   "metadata": {},
   "outputs": [],
   "source": [
    "y_pred = classifier_up.predict(X_test_up)"
   ]
  },
  {
   "cell_type": "code",
   "execution_count": 517,
   "id": "7a44bec8",
   "metadata": {},
   "outputs": [],
   "source": [
    "accuracy = accuracy_score(y_test_up, y_pred)\n",
    "precision1 = precision_score(y_test_up, y_pred)\n",
    "recall1 = recall_score(y_test_up, y_pred)\n",
    "f11 = f1_score(y_test_up, y_pred)\n",
    "confusion_matrix1 = confusion_matrix(y_test_up, y_pred)"
   ]
  },
  {
   "cell_type": "code",
   "execution_count": 518,
   "id": "d45b4ff2",
   "metadata": {},
   "outputs": [
    {
     "name": "stdout",
     "output_type": "stream",
     "text": [
      "Accuracy: 96.13%\n",
      "Precision: 61.45%\n",
      "Recall: 41.80%\n",
      "f1: 49.76%\n"
     ]
    }
   ],
   "source": [
    "print(\"Accuracy: {:.2f}%\".format(accuracy * 100))\n",
    "print(\"Precision: {:.2f}%\".format(precision * 100))\n",
    "print(\"Recall: {:.2f}%\".format(recall * 100))\n",
    "print(\"f1: {:.2f}%\".format(f1 * 100))"
   ]
  },
  {
   "cell_type": "markdown",
   "id": "7879ded2",
   "metadata": {},
   "source": [
    "> ### datasets smote"
   ]
  },
  {
   "cell_type": "code",
   "execution_count": 498,
   "id": "28dbb723",
   "metadata": {},
   "outputs": [
    {
     "data": {
      "text/plain": [
       "RandomForestClassifier(random_state=0)"
      ]
     },
     "execution_count": 498,
     "metadata": {},
     "output_type": "execute_result"
    }
   ],
   "source": [
    "classifier =RandomForestClassifier(n_estimators=100,random_state=0)\n",
    "classifier.fit(X_train_smote,y_train_smote)"
   ]
  },
  {
   "cell_type": "code",
   "execution_count": 499,
   "id": "ec85b14d",
   "metadata": {},
   "outputs": [],
   "source": [
    "y_pred = classifier.predict(X_test_smote)"
   ]
  },
  {
   "cell_type": "code",
   "execution_count": 500,
   "id": "7257622c",
   "metadata": {},
   "outputs": [],
   "source": [
    "accuracy = accuracy_score(y_test_smote, y_pred)\n",
    "precision1 = precision_score(y_test_smote, y_pred)\n",
    "recall1 = recall_score(y_test_smote, y_pred)\n",
    "f11 = f1_score(y_test_smote, y_pred)\n",
    "confusion_matrix1 = confusion_matrix(y_test_smote, y_pred)"
   ]
  },
  {
   "cell_type": "code",
   "execution_count": 501,
   "id": "6e556d41",
   "metadata": {},
   "outputs": [
    {
     "name": "stdout",
     "output_type": "stream",
     "text": [
      "Accuracy: 93.53%\n",
      "Precision: 61.45%\n",
      "Recall: 41.80%\n",
      "f1: 49.76%\n"
     ]
    }
   ],
   "source": [
    "print(\"Accuracy: {:.2f}%\".format(accuracy * 100))\n",
    "print(\"Precision: {:.2f}%\".format(precision * 100))\n",
    "print(\"Recall: {:.2f}%\".format(recall * 100))\n",
    "print(\"f1: {:.2f}%\".format(f1 * 100))"
   ]
  },
  {
   "cell_type": "markdown",
   "id": "b418164d",
   "metadata": {},
   "source": [
    "# Final Submission"
   ]
  },
  {
   "cell_type": "code",
   "execution_count": 514,
   "id": "b23ed2ae",
   "metadata": {},
   "outputs": [],
   "source": [
    "# Assign the best model and best dataset\n",
    "# oversampled_train_df"
   ]
  },
  {
   "cell_type": "code",
   "execution_count": 524,
   "id": "728b5b09",
   "metadata": {},
   "outputs": [
    {
     "data": {
      "text/html": [
       "<div>\n",
       "<style scoped>\n",
       "    .dataframe tbody tr th:only-of-type {\n",
       "        vertical-align: middle;\n",
       "    }\n",
       "\n",
       "    .dataframe tbody tr th {\n",
       "        vertical-align: top;\n",
       "    }\n",
       "\n",
       "    .dataframe thead th {\n",
       "        text-align: right;\n",
       "    }\n",
       "</style>\n",
       "<table border=\"1\" class=\"dataframe\">\n",
       "  <thead>\n",
       "    <tr style=\"text-align: right;\">\n",
       "      <th></th>\n",
       "      <th>age</th>\n",
       "      <th>job</th>\n",
       "      <th>marital</th>\n",
       "      <th>education</th>\n",
       "      <th>default</th>\n",
       "      <th>balance</th>\n",
       "      <th>housing</th>\n",
       "      <th>loan</th>\n",
       "      <th>contact</th>\n",
       "      <th>day</th>\n",
       "      <th>month</th>\n",
       "      <th>duration</th>\n",
       "      <th>campaign</th>\n",
       "      <th>pdays</th>\n",
       "      <th>previous</th>\n",
       "      <th>poutcome</th>\n",
       "      <th>y</th>\n",
       "    </tr>\n",
       "  </thead>\n",
       "  <tbody>\n",
       "    <tr>\n",
       "      <th>2497</th>\n",
       "      <td>23</td>\n",
       "      <td>1</td>\n",
       "      <td>1</td>\n",
       "      <td>0</td>\n",
       "      <td>0</td>\n",
       "      <td>752</td>\n",
       "      <td>1</td>\n",
       "      <td>0</td>\n",
       "      <td>2</td>\n",
       "      <td>13</td>\n",
       "      <td>8</td>\n",
       "      <td>501</td>\n",
       "      <td>1</td>\n",
       "      <td>0</td>\n",
       "      <td>0</td>\n",
       "      <td>3</td>\n",
       "      <td>0</td>\n",
       "    </tr>\n",
       "    <tr>\n",
       "      <th>2867</th>\n",
       "      <td>8</td>\n",
       "      <td>10</td>\n",
       "      <td>2</td>\n",
       "      <td>2</td>\n",
       "      <td>0</td>\n",
       "      <td>275</td>\n",
       "      <td>0</td>\n",
       "      <td>0</td>\n",
       "      <td>0</td>\n",
       "      <td>2</td>\n",
       "      <td>3</td>\n",
       "      <td>61</td>\n",
       "      <td>1</td>\n",
       "      <td>0</td>\n",
       "      <td>0</td>\n",
       "      <td>3</td>\n",
       "      <td>0</td>\n",
       "    </tr>\n",
       "    <tr>\n",
       "      <th>3177</th>\n",
       "      <td>13</td>\n",
       "      <td>4</td>\n",
       "      <td>2</td>\n",
       "      <td>2</td>\n",
       "      <td>0</td>\n",
       "      <td>2283</td>\n",
       "      <td>1</td>\n",
       "      <td>0</td>\n",
       "      <td>0</td>\n",
       "      <td>10</td>\n",
       "      <td>1</td>\n",
       "      <td>91</td>\n",
       "      <td>1</td>\n",
       "      <td>0</td>\n",
       "      <td>0</td>\n",
       "      <td>3</td>\n",
       "      <td>0</td>\n",
       "    </tr>\n",
       "    <tr>\n",
       "      <th>597</th>\n",
       "      <td>18</td>\n",
       "      <td>3</td>\n",
       "      <td>1</td>\n",
       "      <td>0</td>\n",
       "      <td>0</td>\n",
       "      <td>460</td>\n",
       "      <td>0</td>\n",
       "      <td>0</td>\n",
       "      <td>0</td>\n",
       "      <td>7</td>\n",
       "      <td>1</td>\n",
       "      <td>144</td>\n",
       "      <td>3</td>\n",
       "      <td>0</td>\n",
       "      <td>0</td>\n",
       "      <td>3</td>\n",
       "      <td>0</td>\n",
       "    </tr>\n",
       "    <tr>\n",
       "      <th>999</th>\n",
       "      <td>1</td>\n",
       "      <td>8</td>\n",
       "      <td>2</td>\n",
       "      <td>1</td>\n",
       "      <td>0</td>\n",
       "      <td>554</td>\n",
       "      <td>0</td>\n",
       "      <td>0</td>\n",
       "      <td>1</td>\n",
       "      <td>10</td>\n",
       "      <td>8</td>\n",
       "      <td>168</td>\n",
       "      <td>4</td>\n",
       "      <td>259</td>\n",
       "      <td>5</td>\n",
       "      <td>0</td>\n",
       "      <td>0</td>\n",
       "    </tr>\n",
       "    <tr>\n",
       "      <th>...</th>\n",
       "      <td>...</td>\n",
       "      <td>...</td>\n",
       "      <td>...</td>\n",
       "      <td>...</td>\n",
       "      <td>...</td>\n",
       "      <td>...</td>\n",
       "      <td>...</td>\n",
       "      <td>...</td>\n",
       "      <td>...</td>\n",
       "      <td>...</td>\n",
       "      <td>...</td>\n",
       "      <td>...</td>\n",
       "      <td>...</td>\n",
       "      <td>...</td>\n",
       "      <td>...</td>\n",
       "      <td>...</td>\n",
       "      <td>...</td>\n",
       "    </tr>\n",
       "    <tr>\n",
       "      <th>2940</th>\n",
       "      <td>42</td>\n",
       "      <td>9</td>\n",
       "      <td>1</td>\n",
       "      <td>1</td>\n",
       "      <td>0</td>\n",
       "      <td>1226</td>\n",
       "      <td>0</td>\n",
       "      <td>0</td>\n",
       "      <td>0</td>\n",
       "      <td>20</td>\n",
       "      <td>8</td>\n",
       "      <td>210</td>\n",
       "      <td>3</td>\n",
       "      <td>0</td>\n",
       "      <td>0</td>\n",
       "      <td>3</td>\n",
       "      <td>1</td>\n",
       "    </tr>\n",
       "    <tr>\n",
       "      <th>3006</th>\n",
       "      <td>32</td>\n",
       "      <td>6</td>\n",
       "      <td>1</td>\n",
       "      <td>3</td>\n",
       "      <td>0</td>\n",
       "      <td>1566</td>\n",
       "      <td>0</td>\n",
       "      <td>0</td>\n",
       "      <td>0</td>\n",
       "      <td>7</td>\n",
       "      <td>6</td>\n",
       "      <td>447</td>\n",
       "      <td>5</td>\n",
       "      <td>0</td>\n",
       "      <td>0</td>\n",
       "      <td>3</td>\n",
       "      <td>1</td>\n",
       "    </tr>\n",
       "    <tr>\n",
       "      <th>2822</th>\n",
       "      <td>19</td>\n",
       "      <td>2</td>\n",
       "      <td>1</td>\n",
       "      <td>2</td>\n",
       "      <td>0</td>\n",
       "      <td>441</td>\n",
       "      <td>1</td>\n",
       "      <td>0</td>\n",
       "      <td>0</td>\n",
       "      <td>17</td>\n",
       "      <td>8</td>\n",
       "      <td>434</td>\n",
       "      <td>0</td>\n",
       "      <td>0</td>\n",
       "      <td>0</td>\n",
       "      <td>3</td>\n",
       "      <td>1</td>\n",
       "    </tr>\n",
       "    <tr>\n",
       "      <th>99</th>\n",
       "      <td>12</td>\n",
       "      <td>10</td>\n",
       "      <td>2</td>\n",
       "      <td>0</td>\n",
       "      <td>0</td>\n",
       "      <td>662</td>\n",
       "      <td>0</td>\n",
       "      <td>0</td>\n",
       "      <td>0</td>\n",
       "      <td>3</td>\n",
       "      <td>3</td>\n",
       "      <td>665</td>\n",
       "      <td>0</td>\n",
       "      <td>0</td>\n",
       "      <td>0</td>\n",
       "      <td>3</td>\n",
       "      <td>1</td>\n",
       "    </tr>\n",
       "    <tr>\n",
       "      <th>4281</th>\n",
       "      <td>33</td>\n",
       "      <td>4</td>\n",
       "      <td>1</td>\n",
       "      <td>1</td>\n",
       "      <td>0</td>\n",
       "      <td>597</td>\n",
       "      <td>0</td>\n",
       "      <td>0</td>\n",
       "      <td>0</td>\n",
       "      <td>20</td>\n",
       "      <td>10</td>\n",
       "      <td>406</td>\n",
       "      <td>0</td>\n",
       "      <td>115</td>\n",
       "      <td>1</td>\n",
       "      <td>0</td>\n",
       "      <td>1</td>\n",
       "    </tr>\n",
       "  </tbody>\n",
       "</table>\n",
       "<p>3616 rows × 17 columns</p>\n",
       "</div>"
      ],
      "text/plain": [
       "      age  job  marital  education  default  balance  housing  loan  contact  \\\n",
       "2497   23    1        1          0        0      752        1     0        2   \n",
       "2867    8   10        2          2        0      275        0     0        0   \n",
       "3177   13    4        2          2        0     2283        1     0        0   \n",
       "597    18    3        1          0        0      460        0     0        0   \n",
       "999     1    8        2          1        0      554        0     0        1   \n",
       "...   ...  ...      ...        ...      ...      ...      ...   ...      ...   \n",
       "2940   42    9        1          1        0     1226        0     0        0   \n",
       "3006   32    6        1          3        0     1566        0     0        0   \n",
       "2822   19    2        1          2        0      441        1     0        0   \n",
       "99     12   10        2          0        0      662        0     0        0   \n",
       "4281   33    4        1          1        0      597        0     0        0   \n",
       "\n",
       "      day  month  duration  campaign  pdays  previous  poutcome  y  \n",
       "2497   13      8       501         1      0         0         3  0  \n",
       "2867    2      3        61         1      0         0         3  0  \n",
       "3177   10      1        91         1      0         0         3  0  \n",
       "597     7      1       144         3      0         0         3  0  \n",
       "999    10      8       168         4    259         5         0  0  \n",
       "...   ...    ...       ...       ...    ...       ...       ... ..  \n",
       "2940   20      8       210         3      0         0         3  1  \n",
       "3006    7      6       447         5      0         0         3  1  \n",
       "2822   17      8       434         0      0         0         3  1  \n",
       "99      3      3       665         0      0         0         3  1  \n",
       "4281   20     10       406         0    115         1         0  1  \n",
       "\n",
       "[3616 rows x 17 columns]"
      ]
     },
     "execution_count": 524,
     "metadata": {},
     "output_type": "execute_result"
    }
   ],
   "source": [
    "best_model = classifier_up\n",
    "best_data  = oversampled_train_df\n",
    "best_data"
   ]
  },
  {
   "cell_type": "code",
   "execution_count": 525,
   "id": "01c21cc4",
   "metadata": {},
   "outputs": [],
   "source": [
    "y_pred = classifier_up.predict(X_test_up)"
   ]
  },
  {
   "cell_type": "code",
   "execution_count": 526,
   "id": "35bdc5a5",
   "metadata": {},
   "outputs": [],
   "source": [
    "best_data.to_csv(\"submission.csv\", index=False)"
   ]
  },
  {
   "cell_type": "markdown",
   "id": "a8c878b0",
   "metadata": {},
   "source": [
    "# MODEL OPTIMIZATION\n",
    "- hyperparameters\n",
    "- experimenting with different algorithms, or adding new features."
   ]
  },
  {
   "cell_type": "code",
   "execution_count": 528,
   "id": "a99683b4",
   "metadata": {
    "scrolled": true
   },
   "outputs": [
    {
     "name": "stdout",
     "output_type": "stream",
     "text": [
      "Best hyperparameters: {'max_depth': None, 'min_samples_split': 2, 'n_estimators': 30}\n"
     ]
    }
   ],
   "source": [
    "from sklearn.ensemble import RandomForestClassifier\n",
    "from sklearn.model_selection import GridSearchCV\n",
    "\n",
    "# Define the hyperparameters to tune\n",
    "param_grid = {'n_estimators': [10, 20, 30],\n",
    "              'max_depth': [None, 5, 10],\n",
    "              'min_samples_split': [2, 5, 10]}\n",
    "\n",
    "# Create a Random Forest Classifier\n",
    "rfc = RandomForestClassifier()\n",
    "\n",
    "# Run a grid search with cross-validation\n",
    "grid_search = GridSearchCV(rfc, param_grid, cv=5, scoring='accuracy')\n",
    "grid_search.fit(X_train_up, y_train_up)\n",
    "\n",
    "# Get the best hyperparameters\n",
    "best_hyperparameters = grid_search.best_params_\n",
    "print(\"Best hyperparameters:\", best_hyperparameters)\n"
   ]
  },
  {
   "cell_type": "markdown",
   "id": "a07cac86",
   "metadata": {},
   "source": [
    "# INTERPRETATION\n",
    "- Interpreting the results of the model and drawing conclusions about the data\n",
    "- The higher the education, the more succesful is the marketing campaign. Those profiles with a higher education (tertiary) are more willing to say yes to the term deposit.\n",
    "- Management seems to be the job position that holds a bigger amount of subscriptions. This is probably in accordance with higher education levels being more receptive to our campaigns, as mentioned above.\n",
    "- The majority of contacted customers have no loan with our institution.\n",
    "- Those customers who do not have a loan present a higher participation in the subscription. It could be assumed that not having a loan equals more disposable income available for other investment opportunities such as term deposits.\n",
    "- Having a housing loan doesn’t seem to be a decisive factor when considering investing into term deposits as both graphs are approximately the same.However, when it comes to positive response rates, those costumers that do not have a loan for their house have a higher rate to term deposit subscription.\n",
    "- How does the variable housing change when adding relationship status to it. The assumption would be that Single people probably have less housing loans compared to people married or divorced, assuming one only gets a house after marriage. However, at least within our training data customers, that is not the case. Customers, even though they are single, are more likely to have housing loans than not.\n",
    "- Clients that have never been contacted before are all labelled unknown (pdays = -1, previous = 0). Clients with “others” have been previously contacted but we do not know the outcome.\n",
    "- Downsampling performed the best in random forest.\n",
    "\n"
   ]
  },
  {
   "cell_type": "code",
   "execution_count": null,
   "id": "56f6e280",
   "metadata": {},
   "outputs": [],
   "source": []
  }
 ],
 "metadata": {
  "kernelspec": {
   "display_name": "Python 3 (ipykernel)",
   "language": "python",
   "name": "python3"
  },
  "language_info": {
   "codemirror_mode": {
    "name": "ipython",
    "version": 3
   },
   "file_extension": ".py",
   "mimetype": "text/x-python",
   "name": "python",
   "nbconvert_exporter": "python",
   "pygments_lexer": "ipython3",
   "version": "3.9.15"
  }
 },
 "nbformat": 4,
 "nbformat_minor": 5
}
